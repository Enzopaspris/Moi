{
 "cells": [
  {
   "cell_type": "markdown",
   "metadata": {},
   "source": [
    "# Le XOR (ou exclusif) comme méthode de chiffrement"
   ]
  },
  {
   "cell_type": "markdown",
   "metadata": {},
   "source": [
    "En Python, on connaît bien les opérateurs sur les nombres\n",
    "(opérations usuelles), mais moins les opérateurs qui agissent bit à\n",
    "bit sur les représentations des entiers signés (relatifs). Dans ce\n",
    "document, on ne traite que des entiers positifs.\n",
    "\n",
    "Ces opérations sont parfaitement documentés dans la [documentation\n",
    "officielle de\n",
    "Python](https://docs.python.org/fr/3.9/library/stdtypes.html).\n",
    "\n",
    "Explorons tout d'abord les possibilités de ces opérateurs."
   ]
  },
  {
   "cell_type": "markdown",
   "metadata": {},
   "source": [
    "__*Consignes*__ Coder une fonction `operation_bits` qui prend trois arguments :\n",
    " deux nombres entiers et une fonction ; `operation_bits` renvoie un\n",
    " triplet de chaînes correspondant aux representations binaires des\n",
    " deux nombres entiers et du résultat de l'application de la\n",
    " fonction aux deux nombres passés en argument.\n",
    "\n",
    "La fonction passée en argument est du style : `lambda x, y: x+y`\n",
    "\n",
    "Ici c'est la fonction correspondant à l'addition.\n",
    "Attention, la représentation binaire devra être d'identique longueur pour les trois nombres, donc nécessitera d'éventuels zéros inutiles (voir [ce code](https://docs.python.org/3/whatsnew/3.6.html#pep-498-formatted-string-literals) illustrant les possibilités des `f-strings` lors de leur introduction dans Python)."
   ]
  },
  {
   "cell_type": "code",
   "execution_count": 2,
   "metadata": {},
   "outputs": [
    {
     "name": "stdout",
     "output_type": "stream",
     "text": [
      "011101100\n",
      "001100100\n",
      "101010000\n"
     ]
    }
   ],
   "source": [
    "import math\n",
    "\n",
    "def operation_bits(A, B, f):\n",
    "    resultat = f(A, B)\n",
    "    longueur = 1 + int(math.log2(resultat))\n",
    "    return tuple([f\"{x:0{longueur}b}\" for x in (A, B, resultat)])\n",
    "\n",
    "N1 = 236\n",
    "N2 = 100\n",
    "for nombre in operation_bits(N1, N2, lambda x, y: x + y):\n",
    "    print(nombre)"
   ]
  },
  {
   "cell_type": "markdown",
   "metadata": {},
   "source": [
    "**Ce qu'on va réaliser : l'idée de ce document jupyter est d'utiliser le `XOR` (OU EXCLUSIF) pour transformer un message caractère par caractère en utilisant une clé. C'est un chiffrement symétrique : la clé sert à chiffrer et à décrypter.**"
   ]
  },
  {
   "cell_type": "markdown",
   "metadata": {},
   "source": [
    "Pour **réellement** coder un message écrit sous forme de chaînes, on va transformer chaque lettre du message en un entier.\n",
    "\n",
    "_**Question :**_ Quelle fonction/commande Python réalise cela ?"
   ]
  },
  {
   "cell_type": "markdown",
   "metadata": {},
   "source": [
    "__*Votre réponse :*__ "
   ]
  },
  {
   "cell_type": "markdown",
   "metadata": {},
   "source": [
    "__*Consigne*__ Tester avec la chaîne `nsi spécialité` en utilisant une liste par compréhension."
   ]
  },
  {
   "cell_type": "code",
   "execution_count": null,
   "metadata": {},
   "outputs": [],
   "source": [
    "# Dans cette cellule, il faut vérifier la fonction trouvée sur des caractères.\n",
    "liste_entiers = [...........]\n",
    "liste_entiers"
   ]
  },
  {
   "cell_type": "markdown",
   "metadata": {},
   "source": [
    "__*Consigne*__ Prenons comme clé de 8 bits un caractère, par exemple `!`. Utiliser la fonction `operation_bits` avec `!`, `n` et la fonction `XOR` (OU EXCLUSIF)."
   ]
  },
  {
   "cell_type": "code",
   "execution_count": null,
   "metadata": {},
   "outputs": [],
   "source": [
    "operation_bits(................)"
   ]
  },
  {
   "cell_type": "markdown",
   "metadata": {},
   "source": [
    "__*Consigne*__ Quel résultat en écriture hexadécimale obtient-on ?"
   ]
  },
  {
   "cell_type": "code",
   "execution_count": null,
   "metadata": {},
   "outputs": [],
   "source": [
    "# à compléter"
   ]
  },
  {
   "cell_type": "markdown",
   "metadata": {},
   "source": [
    "__*Question :*__ À l'aide de la page Web [Table unicode](https://unicode-table.com/fr/), déterminer de quel carctère il s'agit."
   ]
  },
  {
   "cell_type": "markdown",
   "metadata": {},
   "source": [
    "__*Votre réponse :*__ "
   ]
  },
  {
   "cell_type": "markdown",
   "metadata": {},
   "source": [
    "Chiffrons maintenant le message avec `xor` :"
   ]
  },
  {
   "cell_type": "code",
   "execution_count": null,
   "metadata": {},
   "outputs": [],
   "source": [
    "codage_exc = [ord(c) ^ ord(\"!\") for c in \"nsi spécialité\"]\n",
    "codage_exc"
   ]
  },
  {
   "cell_type": "markdown",
   "metadata": {},
   "source": [
    "__*Question :*__ Retransformons en chaîne de caractères la liste précédente. Quelle fonction/commande Python réalise cela ?\n"
   ]
  },
  {
   "cell_type": "markdown",
   "metadata": {},
   "source": [
    "__*Votre réponse :*__ la commande `chr`"
   ]
  },
  {
   "cell_type": "markdown",
   "metadata": {},
   "source": [
    "__*Consignes*__ Tester avec la liste d'entiers `liste_entiers` obtenue sur la transformation de `\"nsi spécialité\"` : retrouver la chaîne.\n",
    "\n",
    "On utilisera une liste par compréhension et la méthode `join` qui agit sur les objets de la classe `str`."
   ]
  },
  {
   "cell_type": "code",
   "execution_count": null,
   "metadata": {},
   "outputs": [],
   "source": [
    "# à compléter"
   ]
  },
  {
   "cell_type": "markdown",
   "metadata": {},
   "source": [
    "__*Consigne*__ Appliquer enfin la transformation précédente à `codage_exc` pour voir le message chiffré."
   ]
  },
  {
   "cell_type": "code",
   "execution_count": null,
   "metadata": {},
   "outputs": [],
   "source": [
    "# à compléter"
   ]
  },
  {
   "cell_type": "markdown",
   "metadata": {},
   "source": [
    "__*Question :*__ Comment expliquer `\\x01` ?"
   ]
  },
  {
   "cell_type": "markdown",
   "metadata": {},
   "source": [
    "__*Votre réponse :*__ "
   ]
  },
  {
   "cell_type": "markdown",
   "metadata": {},
   "source": [
    "__*Consigne*__ Coder maintenant avec le caractère `z` et observer."
   ]
  },
  {
   "cell_type": "code",
   "execution_count": null,
   "metadata": {},
   "outputs": [],
   "source": [
    "codage_z = [...........]\n",
    "message_chiffre = # à compléter\n",
    "message_chiffre"
   ]
  },
  {
   "cell_type": "markdown",
   "metadata": {},
   "source": [
    "__*Consigne*__ Déchiffrons ce message en réappliquant le `xor` sur la chaîne obtenue."
   ]
  },
  {
   "cell_type": "code",
   "execution_count": null,
   "metadata": {},
   "outputs": [],
   "source": [
    "decodage_z = [.............]\n",
    "message_decrypte = # à compléter\n",
    "message_decrypte"
   ]
  },
  {
   "cell_type": "markdown",
   "metadata": {},
   "source": [
    "**Bilan intermédiaire :** pour chiffrer un message, on peut utiliser le `XOR` (OU EXCLUSIF). On chiffre et décrypte le message de la même manière. Le message chiffré peut contenir alors des caractères non-imprimables, voire descaractères qui ne s'affichent pas car le glyphe est absent dans la police d'écriture utilisée."
   ]
  },
  {
   "cell_type": "markdown",
   "metadata": {},
   "source": [
    "__*Consignes*__ Améliorons notre chiffrement en ne chiffrant pas avec la même lettre mais avec un caractère différent à chaque fois.\n",
    "\n",
    "Prenons toujours le message `nsi spécialité`, et choisissons la clé `lycée J.Moulin`.\n",
    "\n",
    "Chiffrer et décrypter : on créera une unique fonction `xor` qui chiffre et décrypte avec deux arguments, la clé et le message.\n",
    "\n",
    "On s'assurera dans la fonction que la clé et le message ont bien la même longueur."
   ]
  },
  {
   "cell_type": "code",
   "execution_count": null,
   "metadata": {},
   "outputs": [],
   "source": [
    "message = \"nsi spécialité\"\n",
    "cle = \"lycée J.Moulin\"\n",
    "\n",
    "def xor(cle, message):\n",
    "    # à compléter (plusieurs lignes)\n",
    "\n",
    "message_chiffre = xor(cle, message)\n",
    "message_chiffre"
   ]
  },
  {
   "cell_type": "code",
   "execution_count": null,
   "metadata": {},
   "outputs": [],
   "source": [
    "# on décrypte\n",
    "xor(.............)"
   ]
  },
  {
   "cell_type": "markdown",
   "metadata": {},
   "source": [
    "__*Consignes*__ La contrainte de la longueur est très handicapante. Elle peut être résolue de manières différentes : on choisit une clé et on la recopie autant de fois que nécessaire, ou alors on choisit une clé aléatoire de même longueur que le message. Dans le deuxième cas, il peut être difficile de transmettre la clé.\n",
    "\n",
    "Prenons le premier cas avec le même message `nsi spécialité` et la clé `lycée`.\n",
    "On doit donc générer la clé `lycéelycéelycé`.\n",
    "\n",
    "Pour ce faire, on va boucler sur les caractères du message et on utilise le caractère correspondant de la clé : dans l'exemple précédent, en arrivant au 6e caractère du message, on doit choisir le caractère 0 de la clé, même chose en arrivant au 12e."
   ]
  },
  {
   "cell_type": "code",
   "execution_count": null,
   "metadata": {},
   "outputs": [],
   "source": [
    "message = \"nsi spécialité\"\n",
    "cle = \"lycée\"\n",
    "\n",
    "def xor(cle, message):\n",
    "    M = len(message)\n",
    "    C = len(cle)\n",
    "    #\n",
    "    message_transforme = []\n",
    "    for i in range(M):\n",
    "        message_transforme.append(.............)\n",
    "    #\n",
    "    return # à compléter\n",
    "\n",
    "message_chiffre = xor(cle, message)\n",
    "xor(cle, message_chiffre)"
   ]
  },
  {
   "cell_type": "markdown",
   "metadata": {},
   "source": [
    "On peut s'interroger sur l'efficacité d'une telle méthode, notamment pour des caractères sortant de l'ordinaire, typiquement au-delà de 255 dans la table unicode.\n",
    "\n",
    "Si on revient à l'opération basique, prenons des caractères adjacents dans la table unicode de 913 à 937 (en décimal), ils correspondent aux caractères majuscules grecs."
   ]
  },
  {
   "cell_type": "markdown",
   "metadata": {},
   "source": [
    "__*Consigne*__ Afficher les écritures binaires des nombres entre 913 et 937."
   ]
  },
  {
   "cell_type": "code",
   "execution_count": null,
   "metadata": {},
   "outputs": [],
   "source": [
    "for n in range(# à compléter\n",
    "    # à compléter"
   ]
  },
  {
   "cell_type": "markdown",
   "metadata": {},
   "source": [
    "__*Consigne*__ Coder ces caractères avec le `XOR` et la lettre `z`."
   ]
  },
  {
   "cell_type": "code",
   "execution_count": null,
   "metadata": {},
   "outputs": [],
   "source": [
    "codage_z = # à compléter\n",
    "message_chiffre = # à compléter\n",
    "message_chiffre"
   ]
  },
  {
   "cell_type": "markdown",
   "metadata": {},
   "source": [
    "__*Consigne*__ Afficher l'écriture binaire du message chiffré :"
   ]
  },
  {
   "cell_type": "code",
   "execution_count": null,
   "metadata": {},
   "outputs": [],
   "source": [
    "# à compléter"
   ]
  },
  {
   "cell_type": "markdown",
   "metadata": {},
   "source": [
    "__*Question*__ Que remarquez-vous ?"
   ]
  },
  {
   "cell_type": "markdown",
   "metadata": {},
   "source": [
    "__*Votre réponse :*__ "
   ]
  },
  {
   "cell_type": "markdown",
   "metadata": {},
   "source": [
    "**Une remarque importante :** Si on intercepte un message chiffré dont on connaît le message en clair, le chiffrement est alors cassé : il suffit d'appliquer le `XOR`.\n",
    "\n",
    "__*Consigne*__ Reprenons le message en clair `nsi spécialité` et le message chiffré `\\x02\\n\\nÉ\\x16P£M$\\x0e\\x19\\x05\\x1d\\x87`.\n",
    "\n",
    "En appliquant la fonction `xor`, retrouver la clé utilisée."
   ]
  },
  {
   "cell_type": "code",
   "execution_count": null,
   "metadata": {},
   "outputs": [],
   "source": [
    "message_clair = \"nsi spécialité\"\n",
    "message_chiffre = \"\\x02\\n\\nÉ\\x16P£M$\\x0e\\x19\\x05\\x1d\\x87\"\n",
    "xor(.................)"
   ]
  },
  {
   "cell_type": "markdown",
   "metadata": {},
   "source": [
    "Auteur : David COBAC\n",
    "\n",
    "Licence CC-BY-NC-SA"
   ]
  }
 ],
 "metadata": {
  "kernelspec": {
   "display_name": "Python 3 (ipykernel)",
   "language": "python",
   "name": "python3"
  },
  "language_info": {
   "codemirror_mode": {
    "name": "ipython",
    "version": 3
   },
   "file_extension": ".py",
   "mimetype": "text/x-python",
   "name": "python",
   "nbconvert_exporter": "python",
   "pygments_lexer": "ipython3",
   "version": "3.10.4"
  },
  "name": "xor.ipynb"
 },
 "nbformat": 4,
 "nbformat_minor": 4
}
